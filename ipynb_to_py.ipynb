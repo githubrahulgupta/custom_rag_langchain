{
 "cells": [
  {
   "cell_type": "code",
   "execution_count": 1,
   "metadata": {},
   "outputs": [
    {
     "name": "stderr",
     "output_type": "stream",
     "text": [
      "[NbConvertApp] Converting notebook docs_loader.ipynb to script\n",
      "[NbConvertApp] Writing 5111 bytes to docs_loader.py\n"
     ]
    }
   ],
   "source": [
    "# !jupyter nbconvert --to script --output load_and_chunk load_and_chunk.ipynb\n",
    "!jupyter nbconvert --to script load_and_chunk.ipynb\n",
    "!jupyter nbconvert --to script build_embedder.ipynb\n",
    "!jupyter nbconvert --to script build_vectordb.ipynb\n",
    "!jupyter nbconvert --to script build_llm.ipynb\n",
    "####\n",
    "!jupyter nbconvert --to script build_rag_vectordb.ipynb\n",
    "!jupyter nbconvert --to script build_rag_chain.ipynb\n",
    "!jupyter nbconvert --to script build_chatbot.ipynb"
   ]
  },
  {
   "cell_type": "code",
   "execution_count": null,
   "metadata": {},
   "outputs": [],
   "source": []
  }
 ],
 "metadata": {
  "kernelspec": {
   "display_name": "condarag",
   "language": "python",
   "name": "python3"
  },
  "language_info": {
   "codemirror_mode": {
    "name": "ipython",
    "version": 3
   },
   "file_extension": ".py",
   "mimetype": "text/x-python",
   "name": "python",
   "nbconvert_exporter": "python",
   "pygments_lexer": "ipython3",
   "version": "3.10.13"
  }
 },
 "nbformat": 4,
 "nbformat_minor": 2
}
