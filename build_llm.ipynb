{
 "cells": [
  {
   "cell_type": "code",
   "execution_count": 21,
   "metadata": {},
   "outputs": [],
   "source": [
    "from config import *\n",
    "\n",
    "import shutil, sys\n",
    "\n",
    "from dotenv import load_dotenv\n",
    "_ = load_dotenv()\n",
    "logger.debug(f'Environment file loaded')"
   ]
  },
  {
   "cell_type": "code",
   "execution_count": 22,
   "metadata": {},
   "outputs": [],
   "source": [
    "from langchain_community.llms import OCIGenAI\n",
    "# from langchain_community.llms import Cohere\n",
    "from langchain_cohere.llms import Cohere"
   ]
  },
  {
   "cell_type": "code",
   "execution_count": 23,
   "metadata": {},
   "outputs": [],
   "source": [
    "# Custom LLM langchain class created by RG\n",
    "from aqua_cllm import *"
   ]
  },
  {
   "cell_type": "code",
   "execution_count": 24,
   "metadata": {},
   "outputs": [],
   "source": [
    "#\n",
    "# Build LLM\n",
    "#\n",
    "def build_llm():\n",
    "    logger.debug(f'#### ENTER build_llm() function ####')\n",
    "    logger.info(f\"Using {LLM_TYPE} {LLM_NAME} model...\")\n",
    "\n",
    "    if LLM_TYPE == \"OCI_GEN_AI\":\n",
    "#       oci_config = load_oci_config()\n",
    "        try:\n",
    "            llm = OCIGenAI(\n",
    "                model_id=LLM_NAME, \n",
    "                service_endpoint=os.getenv('OCI_GENAI_ENDPOINT'),\n",
    "                compartment_id=os.getenv('COMPARTMENT_ID'),\n",
    "                #temperature=TEMPERATURE # old endpoint\n",
    "                model_kwargs={\"temperature\": TEMPERATURE, \"max_tokens\": MAX_TOKENS}#, \"stop\": [\"populous\"]} # new endpoint\n",
    "            )\n",
    "        except Exception as e:\n",
    "            logger.exception(\"Exception occurred\")\n",
    "            sys.exit(1) # to exit the program with a non-zero exit code, indicating that an error occurred\n",
    "    \n",
    "    elif LLM_TYPE == \"COHERE_OPEN_SOURCE\":\n",
    "        try:\n",
    "            llm = Cohere(\n",
    "                # model=\"command\",  # using large model and not nightly\n",
    "                cohere_api_key=os.getenv('COHERE_API_KEY'),\n",
    "                max_tokens=MAX_TOKENS,\n",
    "                temperature=TEMPERATURE,\n",
    "            )\n",
    "        except Exception as e:\n",
    "            logger.exception(\"Exception occurred\")\n",
    "            sys.exit(1) # to exit the program with a non-zero exit code, indicating that an error occurred\n",
    "        \n",
    "    elif LLM_TYPE == \"OCI_DS_AQUA\":\n",
    "        config = oci.config.from_file(\"~/.oci/config\") # replace with the location of your oci config file\n",
    "        try:\n",
    "            llm = DS_AQUA_LLM(\n",
    "                    temperature=TEMPERATURE, \n",
    "                    config=config, \n",
    "                    # compartment_id=compartment_id, \n",
    "                    service_endpoint=os.getenv('OCI_AQUA_ENDPOINT'),        \n",
    "                    max_tokens = MAX_TOKENS, \n",
    "                    top_k = top_k, \n",
    "                    top_p = 1\n",
    "                    )\n",
    "            logger.info(f'Config used for AQUA LLM:\\n{llm}')\n",
    "        except Exception as e:\n",
    "            logger.exception(\"Exception occurred\")\n",
    "            sys.exit(1) # to exit the program with a non-zero exit code, indicating that an error occurred\n",
    "\n",
    "    logger.debug(f'#### EXIT build_llm() function ####')\n",
    "    return llm"
   ]
  },
  {
   "cell_type": "code",
   "execution_count": 25,
   "metadata": {},
   "outputs": [
    {
     "name": "stderr",
     "output_type": "stream",
     "text": [
      "config - INFO - Using COHERE_OPEN_SOURCE cohere.command model...\n"
     ]
    }
   ],
   "source": [
    " # 6. Build the LLM\n",
    "# llm = build_llm()"
   ]
  },
  {
   "cell_type": "code",
   "execution_count": 26,
   "metadata": {},
   "outputs": [
    {
     "data": {
      "text/plain": [
       "Cohere(client=<cohere.client.Client object at 0x000001B1790327D0>, async_client=<cohere.client.AsyncClient object at 0x000001B1790329E0>, temperature=0.0, cohere_api_key=SecretStr('**********'), max_tokens=1500)"
      ]
     },
     "execution_count": 26,
     "metadata": {},
     "output_type": "execute_result"
    }
   ],
   "source": [
    "# llm"
   ]
  },
  {
   "cell_type": "code",
   "execution_count": 27,
   "metadata": {},
   "outputs": [
    {
     "data": {
      "text/plain": [
       "' Here\\'s a fascinating fact about our planet:\\n\\n\"Earth is unique in the solar system in possessing a thick atmosphere rich in nitrogen and oxygen, two highly reactive chemicals that are rare in the rest of the solar system.\"\\n\\nThis fact highlights one of the most distinctive and important features of Earth\\'s environment: its atmosphere. The presence of a significant amount of nitrogen and oxygen in the atmosphere is vital for life on Earth as we know it. These gases constitute the air we breathe and play a fundamental role in sustaining ecosystems and supporting various forms of life.\\n\\nThis fact underscores Earth\\'s distinctiveness in the solar system and the special conditions that make it suitable for supporting a diverse range of life forms. \\n\\nI hope this fact intrigued you as much as it should! '"
      ]
     },
     "execution_count": 27,
     "metadata": {},
     "output_type": "execute_result"
    }
   ],
   "source": [
    "# llm.invoke(\"Tell me one fact about earth\")"
   ]
  },
  {
   "cell_type": "code",
   "execution_count": null,
   "metadata": {},
   "outputs": [],
   "source": []
  }
 ],
 "metadata": {
  "kernelspec": {
   "display_name": "condarag",
   "language": "python",
   "name": "python3"
  },
  "language_info": {
   "codemirror_mode": {
    "name": "ipython",
    "version": 3
   },
   "file_extension": ".py",
   "mimetype": "text/x-python",
   "name": "python",
   "nbconvert_exporter": "python",
   "pygments_lexer": "ipython3",
   "version": "3.10.13"
  }
 },
 "nbformat": 4,
 "nbformat_minor": 2
}
