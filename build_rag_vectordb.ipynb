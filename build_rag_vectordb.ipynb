{
 "cells": [
  {
   "cell_type": "code",
   "execution_count": 1,
   "metadata": {},
   "outputs": [
    {
     "name": "stderr",
     "output_type": "stream",
     "text": [
      "config - INFO - Current Working Directory: c:\\Users\\Rahul Gupta\\Documents\\RG\\GenAI\\0.self_explore\\custom_rag\n",
      "config - INFO - Folder separator used w.r.t OS: \\\n",
      "config - INFO - Log File: c:\\Users\\Rahul Gupta\\Documents\\RG\\GenAI\\0.self_explore\\custom_rag\\logs\\coe_demo_2024_05_18_15_34_20.log\n",
      "config - INFO - Documents Directory: c:\\Users\\Rahul Gupta\\Documents\\RG\\GenAI\\0.self_explore\\custom_rag\\documents\n",
      "config - INFO - Documents folder being read: c:\\Users\\Rahul Gupta\\Documents\\RG\\GenAI\\0.self_explore\\custom_rag\\documents\\coe_demo\n"
     ]
    }
   ],
   "source": [
    "from load_and_chunk import *\n",
    "from build_embedder import *\n",
    "from build_vectordb import *"
   ]
  },
  {
   "cell_type": "code",
   "execution_count": 2,
   "metadata": {},
   "outputs": [
    {
     "name": "stderr",
     "output_type": "stream",
     "text": [
      "config - INFO - Documents being processed:\n",
      "config - INFO - (1) data-science-lifecycle-ebook.pdf\n",
      "config - INFO - (2) oracle-autonomous-database-technical-overview.pdf\n",
      "config - INFO - Loading document: data-science-lifecycle-ebook.pdf...\n",
      "config - INFO - Loading document: oracle-autonomous-database-technical-overview.pdf...\n",
      "config - INFO - \n",
      "Loaded 32 docs...\n",
      "\n",
      "config - INFO - Splitted the document in 145 chunks...\n",
      "config - INFO - Number of non-empty chunks: 145\n",
      "config - INFO - Loading OCI GenAI Cohere Embeddings Model: cohere.embed-english-v3.0\n",
      "config - INFO - Using CHROMA as Vector Store...\n",
      "config - INFO - persistent vector store being created\n",
      "config - INFO - Directory called coe_demo_chromadb has been deleted from vectorstore folder\n",
      "config - INFO - A new directory called coe_demo_chromadb will be created under vectorstore folder\n",
      "config - INFO - No. of document splits: 145\n",
      "config - INFO - Document embeddings being created in a batch size of 96 docs at a time\n"
     ]
    },
    {
     "data": {
      "text/plain": [
       "<langchain_community.vectorstores.chroma.Chroma at 0x1e0dd043280>"
      ]
     },
     "execution_count": 2,
     "metadata": {},
     "output_type": "execute_result"
    }
   ],
   "source": [
    "# 1. Load a list of documents\n",
    "all_pages = load_all_docs()\n",
    "# all_pages\n",
    "\n",
    "# 2. Split pages in chunks\n",
    "document_splits = split_in_chunks(all_pages)\n",
    "\n",
    "# 3. Load embeddings model\n",
    "embedder = create_embedder()\n",
    "\n",
    "# 4. Create a Vectore Store and store embeddings\n",
    "# for in-memory chromadb\n",
    "# vectorstore = create_vector_store(VECTOR_STORE_NAME, document_splits, embedder)\n",
    "\n",
    "# for persistant chromadb & OCI vectordb\n",
    "create_vectordb(VECTOR_STORE, document_splits, embedder)"
   ]
  },
  {
   "cell_type": "code",
   "execution_count": 3,
   "metadata": {},
   "outputs": [
    {
     "name": "stderr",
     "output_type": "stream",
     "text": [
      "config - INFO - #### ENTER release_log_file() function ####\n",
      "config - INFO - Releasing log file...\n"
     ]
    },
    {
     "name": "stdout",
     "output_type": "stream",
     "text": [
      "Log file released successfully.\n"
     ]
    }
   ],
   "source": [
    "release_log_file()"
   ]
  },
  {
   "cell_type": "code",
   "execution_count": null,
   "metadata": {},
   "outputs": [],
   "source": []
  }
 ],
 "metadata": {
  "kernelspec": {
   "display_name": "condarag",
   "language": "python",
   "name": "python3"
  },
  "language_info": {
   "codemirror_mode": {
    "name": "ipython",
    "version": 3
   },
   "file_extension": ".py",
   "mimetype": "text/x-python",
   "name": "python",
   "nbconvert_exporter": "python",
   "pygments_lexer": "ipython3",
   "version": "3.10.13"
  }
 },
 "nbformat": 4,
 "nbformat_minor": 2
}
