{
 "cells": [
  {
   "cell_type": "code",
   "execution_count": 1,
   "metadata": {},
   "outputs": [
    {
     "name": "stderr",
     "output_type": "stream",
     "text": [
      "config - INFO - Current Working Directory: c:\\Users\\Rahul Gupta\\Documents\\RG\\GenAI\\0.self_explore\\custom_rag\n",
      "config - INFO - Folder separator used w.r.t OS: \\\n",
      "config - INFO - Log File: c:\\Users\\Rahul Gupta\\Documents\\RG\\GenAI\\0.self_explore\\custom_rag\\logs\\coe_demo_2024_05_18_15_34_20.log\n",
      "config - INFO - Documents Directory: c:\\Users\\Rahul Gupta\\Documents\\RG\\GenAI\\0.self_explore\\custom_rag\\documents\n",
      "config - INFO - Documents folder being read: c:\\Users\\Rahul Gupta\\Documents\\RG\\GenAI\\0.self_explore\\custom_rag\\documents\\coe_demo\n"
     ]
    }
   ],
   "source": [
    "from load_and_chunk import *\n",
    "from build_embedder import *\n",
    "from build_vectordb import *"
   ]
  },
  {
   "cell_type": "code",
   "execution_count": null,
   "metadata": {},
   "outputs": [],
   "source": [
    "# 1. Load a list of documents\n",
    "all_pages = load_all_docs()\n",
    "# all_pages\n",
    "\n",
    "# 2. Split pages in chunks\n",
    "document_splits = split_in_chunks(all_pages)\n",
    "\n",
    "# 3. Load embeddings model\n",
    "embedder = create_embedder()\n",
    "\n",
    "# 4. Create a Vectore Store and store embeddings\n",
    "# for in-memory chromadb\n",
    "# vectorstore = create_vector_store(VECTOR_STORE_NAME, document_splits, embedder)\n",
    "\n",
    "# for persistant chromadb & OCI vectordb\n",
    "create_vectordb(VECTOR_STORE, document_splits, embedder)"
   ]
  }
 ],
 "metadata": {
  "kernelspec": {
   "display_name": "condarag",
   "language": "python",
   "name": "python3"
  },
  "language_info": {
   "codemirror_mode": {
    "name": "ipython",
    "version": 3
   },
   "file_extension": ".py",
   "mimetype": "text/x-python",
   "name": "python",
   "nbconvert_exporter": "python",
   "pygments_lexer": "ipython3",
   "version": "3.10.13"
  }
 },
 "nbformat": 4,
 "nbformat_minor": 2
}
