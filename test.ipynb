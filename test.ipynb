{
 "cells": [
  {
   "cell_type": "code",
   "execution_count": 2,
   "metadata": {},
   "outputs": [
    {
     "name": "stderr",
     "output_type": "stream",
     "text": [
      "config - INFO - Current Working Directory: c:\\Users\\Rahul Gupta\\Documents\\RG\\GenAI\\0.self_explore\n",
      "config - INFO - Folder separator used w.r.t OS: \\\n",
      "config - INFO - Log File: c:\\Users\\Rahul Gupta\\Documents\\RG\\GenAI\\0.self_explore\\logs\\coe_demo_2024_05_17_17_52_10.log\n",
      "config - INFO - Documents Directory: c:\\Users\\Rahul Gupta\\Documents\\RG\\GenAI\\0.self_explore\\documents\n",
      "config - INFO - Documents folder being read: c:\\Users\\Rahul Gupta\\Documents\\RG\\GenAI\\0.self_explore\\documents\\coe_demo\n"
     ]
    }
   ],
   "source": [
    "# from load_and_chunk import *\n",
    "# from build_embedder import *\n",
    "from build_vectordb import *\n",
    "from build_llm import *"
   ]
  },
  {
   "cell_type": "code",
   "execution_count": null,
   "metadata": {},
   "outputs": [],
   "source": [
    "# 1. Load a list of pdf documents\n",
    "all_docs = load_all_docs()\n",
    "# all_docs"
   ]
  },
  {
   "cell_type": "code",
   "execution_count": null,
   "metadata": {},
   "outputs": [],
   "source": [
    "# 2. Split pages in chunks\n",
    "document_chunks = split_in_chunks(all_docs)\n",
    "# document_chunks\n",
    "# doc_list, metadata_list = docs_and_metadata(document_splits)"
   ]
  },
  {
   "cell_type": "code",
   "execution_count": null,
   "metadata": {},
   "outputs": [],
   "source": [
    "# 3. Load embeddings model\n",
    "embedder = create_embedder()\n",
    "embedder"
   ]
  },
  {
   "cell_type": "code",
   "execution_count": null,
   "metadata": {},
   "outputs": [],
   "source": [
    "# 4. Create a Vectore Store and store embeddings\n",
    "vectorstore = create_vectordb(VECTOR_STORE, document_chunks, embedder)\n",
    "vectorstore"
   ]
  },
  {
   "cell_type": "code",
   "execution_count": null,
   "metadata": {},
   "outputs": [],
   "source": [
    "vectorstore.similarity_search('what is data science?')"
   ]
  },
  {
   "cell_type": "code",
   "execution_count": null,
   "metadata": {},
   "outputs": [],
   "source": [
    "# 5. Create a retriever\n",
    "# added optionally a reranker\n",
    "retriever = create_retriever(vectorstore)\n",
    "print(f'Retriever object: {retriever}')"
   ]
  },
  {
   "cell_type": "code",
   "execution_count": 3,
   "metadata": {},
   "outputs": [
    {
     "name": "stderr",
     "output_type": "stream",
     "text": [
      "config - INFO - Using OCI_GEN_AI cohere.command model...\n"
     ]
    }
   ],
   "source": [
    "# 6. Build the LLM\n",
    "llm = build_llm()"
   ]
  },
  {
   "cell_type": "code",
   "execution_count": 4,
   "metadata": {},
   "outputs": [
    {
     "data": {
      "text/plain": [
       "' Here is a random fact about Earth:\\n\\n\"The Earth is home to an immense diversity of life, with millions of species of organisms ranging from microscopic bacteria to complex animals and plants. This rich biodiversity is crucial for maintaining the health and balance of our planet\\'s ecosystems. One fascinating example of this diversity is the presence of millions of different insect species. Insects, which include butterflies, beetles, bees, and ants, play vital roles in ecosystems worldwide. They contribute to pollination, seed dispersal, decomposition, and nutrient cycling, making them essential components of the natural world.\"\\n\\nWould you like to know more facts about Earth? '"
      ]
     },
     "execution_count": 4,
     "metadata": {},
     "output_type": "execute_result"
    }
   ],
   "source": [
    "# llm.invoke(\"Tell me one fact about earth\")"
   ]
  },
  {
   "cell_type": "code",
   "execution_count": 5,
   "metadata": {},
   "outputs": [
    {
     "name": "stderr",
     "output_type": "stream",
     "text": [
      "config - INFO - #### ENTER release_log_file() function ####\n",
      "config - INFO - Releasing log file...\n"
     ]
    },
    {
     "name": "stdout",
     "output_type": "stream",
     "text": [
      "Log file released successfully.\n"
     ]
    }
   ],
   "source": [
    "release_log_file()"
   ]
  },
  {
   "cell_type": "code",
   "execution_count": null,
   "metadata": {},
   "outputs": [],
   "source": []
  }
 ],
 "metadata": {
  "kernelspec": {
   "display_name": "condarag",
   "language": "python",
   "name": "python3"
  },
  "language_info": {
   "codemirror_mode": {
    "name": "ipython",
    "version": 3
   },
   "file_extension": ".py",
   "mimetype": "text/x-python",
   "name": "python",
   "nbconvert_exporter": "python",
   "pygments_lexer": "ipython3",
   "version": "3.10.13"
  }
 },
 "nbformat": 4,
 "nbformat_minor": 2
}
