{
 "cells": [
  {
   "cell_type": "code",
   "execution_count": 1,
   "metadata": {},
   "outputs": [
    {
     "name": "stderr",
     "output_type": "stream",
     "text": [
      "config - INFO - Current Working Directory: c:\\Users\\Rahul Gupta\\Documents\\RG\\GenAI\\0.self_explore\n",
      "config - INFO - Folder separator used w.r.t OS: \\\n",
      "config - INFO - Log File: c:\\Users\\Rahul Gupta\\Documents\\RG\\GenAI\\0.self_explore\\logs\\coe_demo_2024_05_17_16_51_03.log\n"
     ]
    }
   ],
   "source": [
    "from config import *\n",
    "\n",
    "import shutil, sys\n",
    "\n",
    "from dotenv import load_dotenv\n",
    "_ = load_dotenv()\n",
    "logger.debug(f'Environment file loaded')"
   ]
  },
  {
   "cell_type": "code",
   "execution_count": null,
   "metadata": {},
   "outputs": [],
   "source": [
    "# for caching embeddings\n",
    "from langchain.storage import LocalFileStore\n",
    "from langchain.embeddings import CacheBackedEmbeddings\n",
    "\n",
    "# from langchain_community.embeddings import CohereEmbeddings\n",
    "from langchain_cohere.embeddings import CohereEmbeddings\n",
    "from langchain_community.embeddings import HuggingFaceEmbeddings\n",
    "from langchain_community.embeddings import OCIGenAIEmbeddings\n",
    "\n"
   ]
  },
  {
   "cell_type": "code",
   "execution_count": null,
   "metadata": {},
   "outputs": [],
   "source": [
    "#\n",
    "# Load the embedding model\n",
    "#\n",
    "def create_embedder():\n",
    "    logger.debug(f'#### ENTER create_embedder() function ####')\n",
    "\n",
    "    # Introduced to cache embeddings and make it faster\n",
    "    if CACHE_EMBEDDINGS:\n",
    "        logger.info(f'Cache Embeddings enabled')\n",
    "        cache_embeddings_path = f\"./embeddings_cache/{CACHE_EMBEDDINGS_FOLDER}/\" \n",
    "\n",
    "        if os.path.isdir(cache_embeddings_path):\n",
    "            shutil.rmtree(cache_embeddings_path) \n",
    "            logger.info(f'Directory called {CACHE_EMBEDDINGS_FOLDER} has been deleted from embeddings_cache folder')\n",
    "        else:\n",
    "            logger.info(f'A new directory called {CACHE_EMBEDDINGS_FOLDER} will be created under embeddings_cache folder')\n",
    "\n",
    "        fs = LocalFileStore(cache_embeddings_path)\n",
    "        \n",
    "    if EMBED_TYPE == \"cohere_open_source\":\n",
    "        logger.info(f\"Loading Cohere Open Source Model {EMBED_MODEL_NAME}\")\n",
    "        try:\n",
    "            embedder = CohereEmbeddings(\n",
    "                model=EMBED_MODEL_NAME, \n",
    "                cohere_api_key=os.getenv('COHERE_API_KEY')\n",
    "            )\n",
    "        except Exception as e:\n",
    "            logger.exception(\"Exception occurred\")\n",
    "            sys.exit(1) # to exit the program with a non-zero exit code, indicating that an error occurred\n",
    "\n",
    "    elif EMBED_TYPE == \"hugging_face\":\n",
    "        logger.info(f\"Loading Hugging Face Embeddings Model: {EMBED_MODEL_NAME}\")\n",
    "\n",
    "        model_kwargs = {\"device\": \"cpu\"}\n",
    "        # changed to True for BAAI, to use cosine similarity\n",
    "        encode_kwargs = {\"normalize_embeddings\": True}\n",
    "        try:\n",
    "            embedder = HuggingFaceEmbeddings(\n",
    "                model_name=EMBED_MODEL_NAME,\n",
    "                model_kwargs=model_kwargs,\n",
    "                encode_kwargs=encode_kwargs,\n",
    "            )\n",
    "        except Exception as e:\n",
    "            logger.exception(\"Exception occurred\")\n",
    "            sys.exit(1) # to exit the program with a non-zero exit code, indicating that an error occurred\n",
    "\n",
    "    elif EMBED_TYPE == \"cohere_oci\":\n",
    "        logger.info(f\"Loading OCI GenAI Cohere Embeddings Model: {EMBED_MODEL_NAME}\")\n",
    "        try:\n",
    "            embedder = OCIGenAIEmbeddings(\n",
    "                model_id=EMBED_MODEL_NAME, \n",
    "                service_endpoint=os.getenv('OCI_GENAI_ENDPOINT'),\n",
    "                compartment_id=os.getenv('COMPARTMENT_ID'), \n",
    "                truncate = 'NONE'\n",
    "                )\n",
    "        except Exception as e:\n",
    "            logger.exception(\"Exception occurred\")\n",
    "            sys.exit(1) # to exit the program with a non-zero exit code, indicating that an error occurred\n",
    "\n",
    "    # the cache for embeddings\n",
    "    if CACHE_EMBEDDINGS:\n",
    "        try:\n",
    "            cached_embedder = CacheBackedEmbeddings.from_bytes_store(\n",
    "                # embed_model, fs, namespace=embed_model.model_name # HUGGING FACE\n",
    "                # embed_model, fs, namespace=embed_model.model # COHERE\n",
    "                embedder, fs, namespace=embedder.model_id # OCI GEN AI COHERE\n",
    "            )\n",
    "            logger.debug(f'#### EXIT create_embedder() function ####')\n",
    "        except Exception as e:\n",
    "            logger.exception('Exception occured')\n",
    "            sys.exit(1) # to exit the program with a non-zero exit code, indicating that an error occurred\n",
    "        return cached_embedder\n",
    "    else:\n",
    "        logger.debug(f'#### EXIT create_embedder() function ####')\n",
    "        return embedder"
   ]
  },
  {
   "cell_type": "code",
   "execution_count": null,
   "metadata": {},
   "outputs": [],
   "source": [
    "# 3. Load embeddings model\n",
    "# embedder = create_embedder()"
   ]
  },
  {
   "cell_type": "code",
   "execution_count": null,
   "metadata": {},
   "outputs": [],
   "source": [
    "# release_log_file()"
   ]
  }
 ],
 "metadata": {
  "kernelspec": {
   "display_name": "condarag",
   "language": "python",
   "name": "python3"
  },
  "language_info": {
   "codemirror_mode": {
    "name": "ipython",
    "version": 3
   },
   "file_extension": ".py",
   "mimetype": "text/x-python",
   "name": "python",
   "nbconvert_exporter": "python",
   "pygments_lexer": "ipython3",
   "version": "3.10.13"
  }
 },
 "nbformat": 4,
 "nbformat_minor": 2
}
