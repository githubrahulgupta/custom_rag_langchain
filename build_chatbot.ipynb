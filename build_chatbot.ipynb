{
 "cells": [
  {
   "cell_type": "code",
   "execution_count": 1,
   "metadata": {},
   "outputs": [
    {
     "name": "stderr",
     "output_type": "stream",
     "text": [
      "config - INFO - Current Working Directory: c:\\Users\\Rahul Gupta\\Documents\\RG\\GenAI\\0.self_explore\n",
      "config - INFO - Folder separator used w.r.t OS: \\\n",
      "config - INFO - Log File: c:\\Users\\Rahul Gupta\\Documents\\RG\\GenAI\\0.self_explore\\logs\\coe_demo_2024_05_18_13_06_57.log\n",
      "config - INFO - Documents Directory: c:\\Users\\Rahul Gupta\\Documents\\RG\\GenAI\\0.self_explore\\documents\n",
      "config - INFO - Documents folder being read: c:\\Users\\Rahul Gupta\\Documents\\RG\\GenAI\\0.self_explore\\documents\\coe_demo\n"
     ]
    }
   ],
   "source": [
    "from build_rag_chain import *"
   ]
  },
  {
   "cell_type": "code",
   "execution_count": 1,
   "metadata": {},
   "outputs": [],
   "source": [
    "#\n",
    "# Streamlit App to demo OCI AI GenAI\n",
    "# this is the main code, with the UI\n",
    "#\n",
    "import streamlit as st"
   ]
  },
  {
   "cell_type": "code",
   "execution_count": null,
   "metadata": {},
   "outputs": [],
   "source": [
    "def reset_conversation():\n",
    "    # Delete all the items in Session state\n",
    "    # for key in st.session_state.keys():\n",
    "    #     del st.session_state[key]\n",
    "    st.session_state.messages = []\n",
    "    clear_conv_memory()"
   ]
  },
  {
   "cell_type": "code",
   "execution_count": null,
   "metadata": {},
   "outputs": [],
   "source": [
    "#\n",
    "# Main\n",
    "#\n",
    "st.title(\"OCI Generative AI Bot powered by RAG\")\n",
    "\n",
    "# Added reset button\n",
    "st.button(\"Clear Chat History\", on_click=reset_conversation)\n",
    "\n",
    "# Initialize chat history\n",
    "if \"messages\" not in st.session_state:\n",
    "    reset_conversation()\n",
    "\n",
    "# init RAG\n",
    "rag_chain = create_rag_chain()\n",
    "\n",
    "# Display chat messages from history on app rerun\n",
    "for message in st.session_state.messages:\n",
    "    with st.chat_message(message[\"role\"]):\n",
    "        # st.markdown(type(message[\"content\"]))\n",
    "        st.markdown(message[\"content\"])\n",
    "\n",
    "# React to user input\n",
    "if question := st.chat_input(\"Hello, how can I help you?\"):\n",
    "    # Display user message in chat message container\n",
    "    st.chat_message(\"user\").markdown(question)\n",
    "    # Add user message to chat history\n",
    "    st.session_state.messages.append({\"role\": \"user\", \"content\": question})\n",
    "\n",
    "    # here we call OCI genai...\n",
    "\n",
    "    try:\n",
    "        logger.debug(\"...\")\n",
    "        response = get_answer(rag_chain, question)\n",
    "\n",
    "        # Display assistant response in chat message container\n",
    "        with st.chat_message(\"assistant\"):\n",
    "            st.markdown(response[\"answer\"])\n",
    "            # st.markdown(\"***References***\")\n",
    "            # st.markdown(\":green[***References***]\")\n",
    "            # st.subheader('_References_', divider='rainbow')\n",
    "            # expander = st.expander(\"References\")\n",
    "\n",
    "            # for item in response[\"source_documents\"]:\n",
    "            #     # st.markdown(f'{item}\\n')\n",
    "            #     expander.write(f'{item}\\n')\n",
    "\n",
    "            # for i, item in enumerate(response[\"source_documents\"]):\n",
    "            #     expander.write(f\"\\n{'-' * 100}\\n\")\n",
    "            #     expander.write(f\"Reference {i+1}: \")\n",
    "            #     expander.write(item.page_content)\n",
    "            #     expander.write(f\"Metadata {i+1}: \")\n",
    "            #     expander.write(item.metadata)\n",
    "\n",
    "            with st.expander(\"References\"):\n",
    "                for i, item in enumerate(response[\"source_documents\"]):\n",
    "                    st.markdown(f\"***Reference {i+1}:***\")\n",
    "                    st.write(item.page_content)\n",
    "                    st.markdown(f\"***Metadata {i+1}:***\")\n",
    "                    st.write(item.metadata)\n",
    "                    # st.write(f\"\\n{'-' * 100}\\n\")\n",
    "                    st.divider()\n",
    "                \n",
    "            # st.markdown(response[\"source_documents\"])\n",
    "\n",
    "        # Add assistant response to chat history\n",
    "        # st.session_state.messages.append({\"role\": \"assistant\", \"content\": response})\n",
    "        st.session_state.messages.append({\"role\": \"assistant\", \"content\": response[\"answer\"]})\n",
    "        # st.session_state.messages.append({\"role\": \"assistant\", \"content\": response[\"source_documents\"]})\n",
    "\n",
    "    except Exception as e:\n",
    "        logger.exception('Exception occured')\n",
    "        st.error(\"An error occurred: \" + str(e))"
   ]
  }
 ],
 "metadata": {
  "kernelspec": {
   "display_name": "condarag",
   "language": "python",
   "name": "python3"
  },
  "language_info": {
   "codemirror_mode": {
    "name": "ipython",
    "version": 3
   },
   "file_extension": ".py",
   "mimetype": "text/x-python",
   "name": "python",
   "nbconvert_exporter": "python",
   "pygments_lexer": "ipython3",
   "version": "3.10.13"
  }
 },
 "nbformat": 4,
 "nbformat_minor": 2
}
